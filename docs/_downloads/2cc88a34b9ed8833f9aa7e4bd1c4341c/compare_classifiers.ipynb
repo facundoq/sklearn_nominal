{
  "cells": [
    {
      "cell_type": "markdown",
      "metadata": {},
      "source": [
        "\n# Nominal classifiers comparison\n\nCompare scikit compatible classifiers available in sklearn_nominal\n"
      ]
    },
    {
      "cell_type": "code",
      "execution_count": null,
      "metadata": {
        "collapsed": false
      },
      "outputs": [],
      "source": [
        "import pandas as pd\nfrom sklearn.metrics import accuracy_score\n\nfrom sklearn_nominal import (\n    CN2Classifier,\n    NaiveBayesClassifier,\n    OneRClassifier,\n    PRISMClassifier,\n    TreeClassifier,\n    ZeroRClassifier,\n)\n\n\ndef read_classification_dataset(url: str):\n    df = pd.read_csv(url)\n    x = df.iloc[:, :-1]\n    y = df.iloc[:, -1]\n    return x, y, y.unique()\n\n\ndataset_name = \"golf_classification\"\nurl_base = (\n    \"https://raw.githubusercontent.com/facundoq/facundoq.github.io/refs/heads/master/\"\n)\nurl = url_base + \"datasets/classification/golf_classification_numeric.csv\"\nx, y, class_names = read_classification_dataset(url)\n\nmodels = [\n    TreeClassifier(),\n    TreeClassifier(criterion=\"gini\"),\n    TreeClassifier(criterion=\"gain_ratio\"),\n    PRISMClassifier(min_rule_support=1),\n    CN2Classifier(min_rule_support=1),\n    OneRClassifier(),\n    ZeroRClassifier(),\n    NaiveBayesClassifier(),\n]\nresults = []\nfor model in models:\n    model.fit(x, y)\n    y_pred = model.predict(x)\n    score = accuracy_score(y, y_pred)\n\n    print(\"===\" * 20)\n    print(f\"Model {model}\")\n    print(model.pretty_print(class_names))\n    print(\"---\" * 20)\n    print(f\"Accuracy: {score:.3f}\")\n    print(\"===\" * 20)\n    print()\n    result = {\"model\": str(model), \"accuracy\": score, \"complexity\": model.complexity()}\n    results.append(result)\n\nresults_df = pd.DataFrame.from_records(results)\nresults_df.to_csv(\"doc/classifier_comparison.csv\", float_format=\"%4g\")\nprint(results_df.to_markdown())"
      ]
    }
  ],
  "metadata": {
    "kernelspec": {
      "display_name": "Python 3",
      "language": "python",
      "name": "python3"
    },
    "language_info": {
      "codemirror_mode": {
        "name": "ipython",
        "version": 3
      },
      "file_extension": ".py",
      "mimetype": "text/x-python",
      "name": "python",
      "nbconvert_exporter": "python",
      "pygments_lexer": "ipython3",
      "version": "3.12.3"
    }
  },
  "nbformat": 4,
  "nbformat_minor": 0
}