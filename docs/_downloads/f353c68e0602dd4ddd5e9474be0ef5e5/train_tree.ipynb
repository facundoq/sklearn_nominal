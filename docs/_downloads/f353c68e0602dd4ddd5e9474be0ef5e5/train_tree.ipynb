{
  "cells": [
    {
      "cell_type": "markdown",
      "metadata": {},
      "source": [
        "\nTrain and evaluate a TreeClassifier on golf weather data\n"
      ]
    },
    {
      "cell_type": "code",
      "execution_count": null,
      "metadata": {
        "collapsed": false
      },
      "outputs": [],
      "source": [
        "import pandas as pd\nfrom sklearn.metrics import accuracy_score\nfrom sklearn_nominal import TreeClassifier\n\ndef read_classification_dataset(url: str):\n    df = pd.read_csv(url)\n    x = df.iloc[:, :-1]\n    y = df.iloc[:, -1]\n    return x, y, y.unique()\n\ndataset_name = \"golf_classification\"\nurl_base = \"https://raw.githubusercontent.com/facundoq/facundoq.github.io/refs/heads/master/\"\nurl = url_base + \"datasets/classification/golf_classification_numeric.csv\"\nx, y, class_names = read_classification_dataset(url)\n\n# custom hiperparameters\nmodel = TreeClassifier(criterion=\"entropy\", max_depth=4, min_samples_leaf=1, min_error_decrease=1e-16)\n\n# Fit and evaluate on training data\nmodel.fit(x, y)\ny_pred = model.predict(x)\nprint(f\"Dataset {dataset_name:40} accuracy: {accuracy_score(y, y_pred) * 100:.2f}%\")\n\n# Print tree\nprint(model.pretty_print(class_names=class_names))\n\n# Export tree as png\nmodel.export_image(\"examples/tree.png\", title=f\"{model}\", class_names=class_names)"
      ]
    }
  ],
  "metadata": {
    "kernelspec": {
      "display_name": "Python 3",
      "language": "python",
      "name": "python3"
    },
    "language_info": {
      "codemirror_mode": {
        "name": "ipython",
        "version": 3
      },
      "file_extension": ".py",
      "mimetype": "text/x-python",
      "name": "python",
      "nbconvert_exporter": "python",
      "pygments_lexer": "ipython3",
      "version": "3.12.3"
    }
  },
  "nbformat": 4,
  "nbformat_minor": 0
}